{
 "cells": [
  {
   "cell_type": "markdown",
   "metadata": {},
   "source": [
    "# <h1><center> *ML-2 Mid Project Prediction Notebook* </center></h1>"
   ]
  },
  {
   "cell_type": "markdown",
   "metadata": {},
   "source": [
    "<div style=\"width:100%;text-align: center;\"> <img align=middle src=\"https://miro.medium.com/max/1400/1*QJZ6W-Pck_W7RlIDwUIN9Q.jpeg\" alt=\"Heat beating\" style=\"height:600px;margin-top:3rem;\"> </div>"
   ]
  },
  {
   "cell_type": "markdown",
   "metadata": {},
   "source": [
    "### Loading necessary libraries"
   ]
  },
  {
   "cell_type": "code",
   "execution_count": 36,
   "metadata": {},
   "outputs": [],
   "source": [
    "import pandas as pd\n",
    "import numpy as np\n",
    "import matplotlib.pyplot as plt\n",
    "plt.style.use('fivethirtyeight')\n",
    "import seaborn as sns\n",
    "import scipy.stats\n",
    "\n",
    "import missingno\n",
    "%matplotlib inline\n",
    "import warnings\n",
    "warnings.filterwarnings('ignore')\n",
    "\n",
    "\n",
    "from sklearn.neighbors import KNeighborsClassifier\n",
    "from sklearn.feature_selection import f_classif\n",
    "from sklearn.feature_selection import SelectKBest, f_regression\n",
    "from sklearn.ensemble import IsolationForest\n",
    "from sklearn.ensemble import BaggingClassifier\n",
    "import lightgbm as lgb\n",
    "from sklearn.utils import estimator_html_repr\n",
    "from sklearn.model_selection import train_test_split, cross_val_score\n",
    "from sklearn.preprocessing import StandardScaler\n",
    "from sklearn.compose import ColumnTransformer\n",
    "from sklearn.model_selection import KFold\n",
    "from sklearn.model_selection import GridSearchCV\n",
    "from pipelinehelper import PipelineHelper\n",
    "from sklearn.linear_model import LogisticRegression\n",
    "from sklearn.naive_bayes import GaussianNB\n",
    "from sklearn.neighbors import NearestNeighbors\n",
    "from sklearn.neighbors import KNeighborsRegressor\n",
    "from sklearn.metrics import classification_report\n",
    "from sklearn.metrics import plot_confusion_matrix\n",
    "from sklearn.ensemble import RandomForestClassifier\n",
    "from sklearn.metrics import precision_score, recall_score, f1_score, roc_auc_score, accuracy_score, classification_report,confusion_matrix\n",
    "from sklearn import svm\n",
    "from sklearn.ensemble import AdaBoostClassifier\n",
    "from sklearn.ensemble import VotingClassifier\n",
    "from catboost import CatBoostClassifier\n",
    "from sklearn.model_selection import cross_val_score\n",
    "from sklearn.model_selection import RepeatedStratifiedKFold\n",
    "from xgboost import XGBClassifier\n",
    "from sklearn.metrics import roc_auc_score\n",
    "\n",
    "from sklearn.pipeline import Pipeline\n",
    "from sklearn.compose import ColumnTransformer\n",
    "from sklearn.impute import SimpleImputer\n",
    "from sklearn.preprocessing import StandardScaler\n",
    "import optuna"
   ]
  },
  {
   "cell_type": "markdown",
   "metadata": {},
   "source": [
    "## Loading data"
   ]
  },
  {
   "cell_type": "code",
   "execution_count": 6,
   "metadata": {},
   "outputs": [],
   "source": [
    "train = pd.read_csv(r\"C:\\Users\\admin\\trainEDA.csv\")\n",
    "test = pd.read_csv(r\"C:\\Users\\admin\\testEDA.csv\")"
   ]
  },
  {
   "cell_type": "markdown",
   "metadata": {},
   "source": [
    "### Defining the predictors and target"
   ]
  },
  {
   "cell_type": "code",
   "execution_count": 7,
   "metadata": {},
   "outputs": [],
   "source": [
    "X = train.drop(['Id','defaulted_on_loan'], axis=1)\n",
    "y = train[['defaulted_on_loan']]"
   ]
  },
  {
   "cell_type": "code",
   "execution_count": 8,
   "metadata": {},
   "outputs": [
    {
     "name": "stdout",
     "output_type": "stream",
     "text": [
      "(57728, 10) (14433, 1)\n"
     ]
    }
   ],
   "source": [
    "X_train, X_test, y_train, y_test = train_test_split(X, y, test_size=0.2, random_state=42, shuffle = True)\n",
    "print(X_train.shape, y_test.shape)"
   ]
  },
  {
   "cell_type": "markdown",
   "metadata": {},
   "source": [
    "### Starting with simplest"
   ]
  },
  {
   "cell_type": "markdown",
   "metadata": {},
   "source": [
    "I will start with simply LogisticRegression, whom is the king of classification for some banking problems!"
   ]
  },
  {
   "cell_type": "code",
   "execution_count": 19,
   "metadata": {},
   "outputs": [],
   "source": [
    "lr_pipeline=Pipeline(steps=[\n",
    "    ('scaler', StandardScaler()),\n",
    "    ('impute', SimpleImputer(strategy='median')),\n",
    "    ('classifier', LogisticRegression())\n",
    "]) "
   ]
  },
  {
   "cell_type": "code",
   "execution_count": 20,
   "metadata": {},
   "outputs": [
    {
     "name": "stdout",
     "output_type": "stream",
     "text": [
      "0.6776597252268353\n"
     ]
    }
   ],
   "source": [
    "lr_pipeline.fit(X_train,y_train)\n",
    "pred1 = lr_pipeline.predict_proba(X_test)\n",
    "print(roc_auc_score(y_test, pred1[:,1]))"
   ]
  },
  {
   "cell_type": "markdown",
   "metadata": {},
   "source": [
    "Oops, it seems this problem is 'too heavy' for LR, at least with imbalanced data and non-optimized hyperparameters."
   ]
  },
  {
   "cell_type": "markdown",
   "metadata": {},
   "source": [
    "### Let's try LightGBM:"
   ]
  },
  {
   "cell_type": "code",
   "execution_count": 8,
   "metadata": {},
   "outputs": [],
   "source": [
    "model_pipeline2=Pipeline(steps=[\n",
    "    ('scaler', StandardScaler()),\n",
    "    ('impute', SimpleImputer()),\n",
    "    ('classifier', PipelineHelper([\n",
    "        \n",
    "        \n",
    "    \n",
    "        ('lgb', lgb.LGBMClassifier())\n",
    "    ])), \n",
    "])"
   ]
  },
  {
   "cell_type": "code",
   "execution_count": 9,
   "metadata": {},
   "outputs": [
    {
     "name": "stdout",
     "output_type": "stream",
     "text": [
      "Best Score:  0.8442\n",
      "--------------------------------\n",
      "{'classifier__selected_model': ('lgb', {'boosting_type': 'dart', 'n_estimators': 101, 'num_leaves': 15})}\n"
     ]
    }
   ],
   "source": [
    "params = {\n",
    "    'classifier__selected_model': model_pipeline2.named_steps['classifier'].generate({\n",
    "    'lgb__boosting_type' : ['gbdt','dart'],\n",
    "     'lgb__num_leaves' : [2,3,4,5,6,7,8,9,10,15,20],\n",
    "    'lgb__n_estimators' : [80,85,90,100,101]\n",
    "        \n",
    "    \n",
    "        })\n",
    "}\n",
    "\n",
    "kfold = KFold(n_splits=5, shuffle=True, random_state=42)\n",
    "# GridSearch is also doing cross-validation of data, but we can also add kfold\n",
    "grid = GridSearchCV(model_pipeline2, params, cv=3, scoring='roc_auc')\n",
    "result = grid.fit(X_train,y_train)\n",
    "print('Best Score: ',  round((result.best_score_),4))\n",
    "print('--------------------------------')\n",
    "print(grid.best_params_)"
   ]
  },
  {
   "cell_type": "markdown",
   "metadata": {},
   "source": [
    "Nice score! I tried my submission and got score around 0.82. Let's improve our score."
   ]
  },
  {
   "cell_type": "markdown",
   "metadata": {},
   "source": [
    "## *Yandex's CatBoostClassifier:*"
   ]
  },
  {
   "cell_type": "code",
   "execution_count": 34,
   "metadata": {},
   "outputs": [],
   "source": [
    "ctb_pipeline=Pipeline(steps=[\n",
    "    ('scaler', StandardScaler()),\n",
    "    ('impute', SimpleImputer(strategy='median')),\n",
    "    ('classifier', CatBoostClassifier(silent=True,depth=9, iterations=1700, learning_rate=0.01, l2_leaf_reg=3,use_best_model=True))\n",
    "]) "
   ]
  },
  {
   "cell_type": "code",
   "execution_count": 42,
   "metadata": {},
   "outputs": [
    {
     "data": {
      "text/plain": [
       "Pipeline(steps=[('scaler', StandardScaler()),\n",
       "                ('impute', SimpleImputer(strategy='median')),\n",
       "                ('classifier',\n",
       "                 <catboost.core.CatBoostClassifier object at 0x000001AF22F84A88>)])"
      ]
     },
     "execution_count": 42,
     "metadata": {},
     "output_type": "execute_result"
    }
   ],
   "source": [
    "cate_features_index = np.where(X.dtypes != float)[0]\n",
    "ctb_pipeline.fit(X_train, y_train,classifier__cat_features=cate_features_index, classifier__eval_set=(X_test,y_test))"
   ]
  },
  {
   "cell_type": "code",
   "execution_count": 13,
   "metadata": {},
   "outputs": [
    {
     "name": "stdout",
     "output_type": "stream",
     "text": [
      "0.8557596232537847\n"
     ]
    }
   ],
   "source": [
    "pred3 = ctb_pipeline.predict_proba(X_test)\n",
    "print(roc_auc_score(y_test, pred3[:,1]))"
   ]
  },
  {
   "cell_type": "markdown",
   "metadata": {},
   "source": [
    "### Simple XGBoost"
   ]
  },
  {
   "cell_type": "code",
   "execution_count": 26,
   "metadata": {},
   "outputs": [],
   "source": [
    "xgb_pipeline1 = Pipeline(steps=[\n",
    "    ('scaler', StandardScaler()),\n",
    "    ('impute', SimpleImputer()),\n",
    "    ('classification', XGBClassifier(max_depth = 7))  \n",
    "])"
   ]
  },
  {
   "cell_type": "code",
   "execution_count": 27,
   "metadata": {},
   "outputs": [
    {
     "name": "stdout",
     "output_type": "stream",
     "text": [
      "[01:11:25] WARNING: C:/Users/Administrator/workspace/xgboost-win64_release_1.5.1/src/learner.cc:1115: Starting in XGBoost 1.3.0, the default evaluation metric used with the objective 'binary:logistic' was changed from 'error' to 'logloss'. Explicitly set eval_metric if you'd like to restore the old behavior.\n",
      "0.8339803015224403\n"
     ]
    }
   ],
   "source": [
    "xgb_pipeline1.fit(X_train, y_train)\n",
    "pred4 = xgb_pipeline1.predict_proba(X_test)[:, 1]\n",
    "\n",
    "\n",
    "print(roc_auc_score(y_test,pred4))"
   ]
  },
  {
   "cell_type": "markdown",
   "metadata": {},
   "source": [
    "### Without parameter optimization, XGBoost is giving good results and it is fast, let's find best parameters for it and give it a shot "
   ]
  },
  {
   "cell_type": "markdown",
   "metadata": {},
   "source": [
    "#### Used Optuna for determining best hyperparameters, it tooks a bit long to compile, so I commented it out"
   ]
  },
  {
   "cell_type": "code",
   "execution_count": 23,
   "metadata": {},
   "outputs": [],
   "source": [
    "# %%time\n",
    "#def objective(trial):\n",
    "#    params = {\n",
    "#\n",
    "     \n",
    "\n",
    "#        'max_depth': trial.suggest_int('max_depth', 1, 10),\n",
    "#\n",
    "#        'n_estimators': trial.suggest_int('n_estimators', 100, 1000),\n",
    "#\n",
    "#        'learning_rate': trial.suggest_loguniform('learning_rate', 1e-8, 1.0),\n",
    "#        \n",
    "#       'reg_alpha':trial.suggest_uniform('reg_alpha',0,15),\n",
    "#       \n",
    "#       'reg_lambda':trial.suggest_uniform('reg_lambda',0,15),\n",
    "#        \n",
    "#         'gamma':trial.suggest_uniform('gamma', 0, 15),\n",
    "        \n",
    "#        'min_child_weight':trial.suggest_int('min_child_weight',0,15),    \n",
    "        \n",
    "#        'colsample_bytree':trial.suggest_uniform('colsample_bytree',0,1),\n",
    "#        'subsample':trial.suggest_uniform('subsample',0,1),\n",
    "        \n",
    "#        'scale_pos_weight':trial.suggest_int('scale_pos_weight',1,15), \n",
    "        \n",
    "        \n",
    "\n",
    "#    }\n",
    "    \n",
    "#    piplin = Pipeline(steps=[\n",
    "#    ('scaler', StandardScaler()),\n",
    "#    ('impute', SimpleImputer()),\n",
    "#    ('classification', xgb.XGBClassifier(**params))  \n",
    "#])\n",
    "\n",
    "#    piplin.fit(X_train, y_train)\n",
    "#    rocaucscore = roc_auc_score(y_test, model.predict_proba(X_test)[:, 1])\n",
    "#\n",
    "#    return (rocaucscore)   "
   ]
  },
  {
   "cell_type": "markdown",
   "metadata": {},
   "source": [
    "### Prediction with optimized values:"
   ]
  },
  {
   "cell_type": "code",
   "execution_count": 39,
   "metadata": {},
   "outputs": [],
   "source": [
    "xgb_pipeline = Pipeline(steps=[\n",
    "    ('scaler', StandardScaler()),\n",
    "    ('impute', SimpleImputer()),\n",
    "    ('classification', XGBClassifier(max_depth = 8,  n_estimators = 380, learning_rate = 0.014, reg_alpha = 3.499, reg_lambda = 0.998,gamma = 1.658, min_child_weight = 1, colsample_bytree = 0.564, subsample = 0.634, scale_pos_weight = 1))  \n",
    "])"
   ]
  },
  {
   "cell_type": "code",
   "execution_count": 40,
   "metadata": {},
   "outputs": [
    {
     "name": "stdout",
     "output_type": "stream",
     "text": [
      "[01:29:12] WARNING: C:/Users/Administrator/workspace/xgboost-win64_release_1.5.1/src/learner.cc:1115: Starting in XGBoost 1.3.0, the default evaluation metric used with the objective 'binary:logistic' was changed from 'error' to 'logloss'. Explicitly set eval_metric if you'd like to restore the old behavior.\n",
      "0.8590046822380071\n"
     ]
    }
   ],
   "source": [
    "xgb_pipeline.fit(X_train, y_train)\n",
    "pred5 = xgb_pipeline.predict_proba(X_test)[:, 1]\n",
    "\n",
    "\n",
    "print(roc_auc_score(y_test,pred5))"
   ]
  },
  {
   "cell_type": "markdown",
   "metadata": {},
   "source": [
    "### Stacking Models`"
   ]
  },
  {
   "cell_type": "markdown",
   "metadata": {},
   "source": [
    "I used Voting Classifier initiallly but got better results in test dataset by simplying averaging the results of my 2 best predictors:"
   ]
  },
  {
   "cell_type": "code",
   "execution_count": 43,
   "metadata": {},
   "outputs": [
    {
     "data": {
      "text/plain": [
       "(48108, 2)"
      ]
     },
     "execution_count": 43,
     "metadata": {},
     "output_type": "execute_result"
    }
   ],
   "source": [
    "y_pred_final = ctb_pipeline.predict_proba(test.drop(['Id'],axis=1))\n",
    "y_pred_final2 = xgb_pipeline.predict_proba(test.drop(['Id'],axis=1))\n",
    "\n",
    "#Creating prediction column\n",
    "prediction = test[['Id']]\n",
    "\n",
    "#Adding average prediction values as new column\n",
    "prediction['Predicted'] = (y_pred_final[:,1]+y_pred_final2[:,1])/2\n",
    "\n",
    "#checking the shape for consistency\n",
    "prediction.shape "
   ]
  },
  {
   "cell_type": "code",
   "execution_count": 30,
   "metadata": {},
   "outputs": [
    {
     "data": {
      "text/html": [
       "<div>\n",
       "<style scoped>\n",
       "    .dataframe tbody tr th:only-of-type {\n",
       "        vertical-align: middle;\n",
       "    }\n",
       "\n",
       "    .dataframe tbody tr th {\n",
       "        vertical-align: top;\n",
       "    }\n",
       "\n",
       "    .dataframe thead th {\n",
       "        text-align: right;\n",
       "    }\n",
       "</style>\n",
       "<table border=\"1\" class=\"dataframe\">\n",
       "  <thead>\n",
       "    <tr style=\"text-align: right;\">\n",
       "      <th></th>\n",
       "      <th>Id</th>\n",
       "      <th>Predicted</th>\n",
       "    </tr>\n",
       "  </thead>\n",
       "  <tbody>\n",
       "    <tr>\n",
       "      <th>0</th>\n",
       "      <td>1</td>\n",
       "      <td>0.134209</td>\n",
       "    </tr>\n",
       "    <tr>\n",
       "      <th>1</th>\n",
       "      <td>2</td>\n",
       "      <td>0.559777</td>\n",
       "    </tr>\n",
       "    <tr>\n",
       "      <th>2</th>\n",
       "      <td>3</td>\n",
       "      <td>0.017864</td>\n",
       "    </tr>\n",
       "  </tbody>\n",
       "</table>\n",
       "</div>"
      ],
      "text/plain": [
       "   Id  Predicted\n",
       "0   1   0.134209\n",
       "1   2   0.559777\n",
       "2   3   0.017864"
      ]
     },
     "execution_count": 30,
     "metadata": {},
     "output_type": "execute_result"
    }
   ],
   "source": [
    "prediction.head(3)"
   ]
  },
  {
   "cell_type": "code",
   "execution_count": 31,
   "metadata": {},
   "outputs": [
    {
     "name": "stdout",
     "output_type": "stream",
     "text": [
      "Submission was successfully saved!\n"
     ]
    }
   ],
   "source": [
    "#prediction.to_csv(\"ML2submission16.csv\", index=False)\n",
    "print(\"Submission was successfully saved!\")"
   ]
  },
  {
   "cell_type": "code",
   "execution_count": null,
   "metadata": {},
   "outputs": [],
   "source": []
  }
 ],
 "metadata": {
  "kernelspec": {
   "display_name": "Python 3",
   "language": "python",
   "name": "python3"
  },
  "language_info": {
   "codemirror_mode": {
    "name": "ipython",
    "version": 3
   },
   "file_extension": ".py",
   "mimetype": "text/x-python",
   "name": "python",
   "nbconvert_exporter": "python",
   "pygments_lexer": "ipython3",
   "version": "3.7.6"
  }
 },
 "nbformat": 4,
 "nbformat_minor": 4
}
